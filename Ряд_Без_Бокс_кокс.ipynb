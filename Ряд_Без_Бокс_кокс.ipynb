{
 "cells": [
  {
   "cell_type": "code",
   "execution_count": 4,
   "metadata": {},
   "outputs": [],
   "source": [
    "import pandas as pd\n",
    "df = pd.read_csv('DOG_15MIN_NO_BOXCOX.CSV')\n",
    "# Преобразуем данные в формат datetime, если нужно\n",
    "df['Open time'] = pd.to_datetime(df['Open time'])\n",
    "\n",
    "# Убедитесь, что индексы в DataFrame - это временной ряд\n",
    "df = df.set_index('Open time')  # если 'Open time' - это временная метка"
   ]
  },
  {
   "cell_type": "code",
   "execution_count": 6,
   "metadata": {},
   "outputs": [],
   "source": [
    "import numpy as np\n",
    "import statsmodels.api as sm\n",
    "from statsmodels.tsa.api import VAR\n",
    "import matplotlib.pyplot as plt"
   ]
  },
  {
   "cell_type": "markdown",
   "metadata": {},
   "source": [
    "# Модель 1\n",
    "## VAR\n",
    "### Векторная авторегрессия (VAR) "
   ]
  },
  {
   "cell_type": "code",
   "execution_count": 5,
   "metadata": {},
   "outputs": [
    {
     "data": {
      "text/html": [
       "<div>\n",
       "<style scoped>\n",
       "    .dataframe tbody tr th:only-of-type {\n",
       "        vertical-align: middle;\n",
       "    }\n",
       "\n",
       "    .dataframe tbody tr th {\n",
       "        vertical-align: top;\n",
       "    }\n",
       "\n",
       "    .dataframe thead th {\n",
       "        text-align: right;\n",
       "    }\n",
       "</style>\n",
       "<table border=\"1\" class=\"dataframe\">\n",
       "  <thead>\n",
       "    <tr style=\"text-align: right;\">\n",
       "      <th></th>\n",
       "      <th>Taker Buy Base Asset Volume</th>\n",
       "      <th>Taker Buy Quote Asset Volume</th>\n",
       "      <th>Taker Sell Base Asset Volume</th>\n",
       "      <th>seller_trades</th>\n",
       "      <th>buer_trades</th>\n",
       "      <th>Taker Sell Quote Asset Volume</th>\n",
       "      <th>Range</th>\n",
       "      <th>target</th>\n",
       "    </tr>\n",
       "    <tr>\n",
       "      <th>Open time</th>\n",
       "      <th></th>\n",
       "      <th></th>\n",
       "      <th></th>\n",
       "      <th></th>\n",
       "      <th></th>\n",
       "      <th></th>\n",
       "      <th></th>\n",
       "      <th></th>\n",
       "    </tr>\n",
       "  </thead>\n",
       "  <tbody>\n",
       "    <tr>\n",
       "      <th>2020-11-19 19:00:00</th>\n",
       "      <td>4176342.0</td>\n",
       "      <td>12142.156017</td>\n",
       "      <td>15584224.0</td>\n",
       "      <td>398.0</td>\n",
       "      <td>107.0</td>\n",
       "      <td>45472.261790</td>\n",
       "      <td>0.012929</td>\n",
       "      <td>-0.009279</td>\n",
       "    </tr>\n",
       "    <tr>\n",
       "      <th>2020-11-19 19:15:00</th>\n",
       "      <td>5646231.0</td>\n",
       "      <td>16335.192524</td>\n",
       "      <td>2069729.0</td>\n",
       "      <td>31.0</td>\n",
       "      <td>83.0</td>\n",
       "      <td>5992.098954</td>\n",
       "      <td>0.007804</td>\n",
       "      <td>-0.003644</td>\n",
       "    </tr>\n",
       "    <tr>\n",
       "      <th>2020-11-19 19:30:00</th>\n",
       "      <td>2030787.0</td>\n",
       "      <td>5898.155289</td>\n",
       "      <td>3973756.0</td>\n",
       "      <td>44.0</td>\n",
       "      <td>23.0</td>\n",
       "      <td>11541.000277</td>\n",
       "      <td>0.005138</td>\n",
       "      <td>0.003897</td>\n",
       "    </tr>\n",
       "    <tr>\n",
       "      <th>2020-11-19 19:45:00</th>\n",
       "      <td>1021437.0</td>\n",
       "      <td>2975.096665</td>\n",
       "      <td>455524.0</td>\n",
       "      <td>9.0</td>\n",
       "      <td>19.0</td>\n",
       "      <td>1325.352797</td>\n",
       "      <td>0.003265</td>\n",
       "      <td>0.002027</td>\n",
       "    </tr>\n",
       "    <tr>\n",
       "      <th>2020-11-19 20:00:00</th>\n",
       "      <td>4592669.0</td>\n",
       "      <td>13323.285198</td>\n",
       "      <td>3051972.0</td>\n",
       "      <td>32.0</td>\n",
       "      <td>49.0</td>\n",
       "      <td>8864.029809</td>\n",
       "      <td>0.003471</td>\n",
       "      <td>-0.002715</td>\n",
       "    </tr>\n",
       "  </tbody>\n",
       "</table>\n",
       "</div>"
      ],
      "text/plain": [
       "                     Taker Buy Base Asset Volume  \\\n",
       "Open time                                          \n",
       "2020-11-19 19:00:00                    4176342.0   \n",
       "2020-11-19 19:15:00                    5646231.0   \n",
       "2020-11-19 19:30:00                    2030787.0   \n",
       "2020-11-19 19:45:00                    1021437.0   \n",
       "2020-11-19 20:00:00                    4592669.0   \n",
       "\n",
       "                     Taker Buy Quote Asset Volume  \\\n",
       "Open time                                           \n",
       "2020-11-19 19:00:00                  12142.156017   \n",
       "2020-11-19 19:15:00                  16335.192524   \n",
       "2020-11-19 19:30:00                   5898.155289   \n",
       "2020-11-19 19:45:00                   2975.096665   \n",
       "2020-11-19 20:00:00                  13323.285198   \n",
       "\n",
       "                     Taker Sell Base Asset Volume  seller_trades  buer_trades  \\\n",
       "Open time                                                                       \n",
       "2020-11-19 19:00:00                    15584224.0          398.0        107.0   \n",
       "2020-11-19 19:15:00                     2069729.0           31.0         83.0   \n",
       "2020-11-19 19:30:00                     3973756.0           44.0         23.0   \n",
       "2020-11-19 19:45:00                      455524.0            9.0         19.0   \n",
       "2020-11-19 20:00:00                     3051972.0           32.0         49.0   \n",
       "\n",
       "                     Taker Sell Quote Asset Volume     Range    target  \n",
       "Open time                                                               \n",
       "2020-11-19 19:00:00                   45472.261790  0.012929 -0.009279  \n",
       "2020-11-19 19:15:00                    5992.098954  0.007804 -0.003644  \n",
       "2020-11-19 19:30:00                   11541.000277  0.005138  0.003897  \n",
       "2020-11-19 19:45:00                    1325.352797  0.003265  0.002027  \n",
       "2020-11-19 20:00:00                    8864.029809  0.003471 -0.002715  "
      ]
     },
     "execution_count": 5,
     "metadata": {},
     "output_type": "execute_result"
    }
   ],
   "source": [
    "df.head()"
   ]
  },
  {
   "cell_type": "code",
   "execution_count": 10,
   "metadata": {},
   "outputs": [],
   "source": [
    "df_diff = df.diff().dropna()"
   ]
  },
  {
   "cell_type": "code",
   "execution_count": 8,
   "metadata": {},
   "outputs": [
    {
     "name": "stderr",
     "output_type": "stream",
     "text": [
      "c:\\Users\\razum\\AppData\\Local\\Programs\\Python\\Python39\\lib\\site-packages\\statsmodels\\tsa\\base\\tsa_model.py:473: ValueWarning: A date index has been provided, but it has no associated frequency information and so will be ignored when e.g. forecasting.\n",
      "  self._init_dates(dates, freq)\n"
     ]
    },
    {
     "name": "stdout",
     "output_type": "stream",
     "text": [
      "Оптимальное количество лагов: 73\n"
     ]
    }
   ],
   "source": [
    "model = VAR(df.diff().dropna())  # Используем дифференцированные данные\n",
    "lag_order = model.select_order().aic\n",
    "print(f\"Оптимальное количество лагов: {lag_order}\")\n",
    "\n"
   ]
  },
  {
   "cell_type": "code",
   "execution_count": 11,
   "metadata": {},
   "outputs": [],
   "source": [
    "model_fitted = model.fit(lag_order)\n",
    "\n",
    "# Прогнозирование\n",
    "forecast_steps = 3  # количество шагов вперед\n",
    "forecast = model_fitted.forecast(df_diff.values[-lag_order:], steps=forecast_steps)\n",
    "forecast_df = pd.DataFrame(forecast, index=pd.date_range(df.index[-1], periods=forecast_steps+1, freq='D')[1:], columns=df.columns)"
   ]
  },
  {
   "cell_type": "code",
   "execution_count": 12,
   "metadata": {},
   "outputs": [
    {
     "name": "stdout",
     "output_type": "stream",
     "text": [
      "Абсолютные ошибки:\n",
      "                     Taker Buy Base Asset Volume  \\\n",
      "2024-11-19 18:15:00                          NaN   \n",
      "2024-11-19 18:30:00                          NaN   \n",
      "2024-11-19 18:45:00                          NaN   \n",
      "2024-11-20 18:45:00                          NaN   \n",
      "2024-11-21 18:45:00                          NaN   \n",
      "2024-11-22 18:45:00                          NaN   \n",
      "\n",
      "                     Taker Buy Quote Asset Volume  \\\n",
      "2024-11-19 18:15:00                           NaN   \n",
      "2024-11-19 18:30:00                           NaN   \n",
      "2024-11-19 18:45:00                           NaN   \n",
      "2024-11-20 18:45:00                           NaN   \n",
      "2024-11-21 18:45:00                           NaN   \n",
      "2024-11-22 18:45:00                           NaN   \n",
      "\n",
      "                     Taker Sell Base Asset Volume  seller_trades  buer_trades  \\\n",
      "2024-11-19 18:15:00                           NaN            NaN          NaN   \n",
      "2024-11-19 18:30:00                           NaN            NaN          NaN   \n",
      "2024-11-19 18:45:00                           NaN            NaN          NaN   \n",
      "2024-11-20 18:45:00                           NaN            NaN          NaN   \n",
      "2024-11-21 18:45:00                           NaN            NaN          NaN   \n",
      "2024-11-22 18:45:00                           NaN            NaN          NaN   \n",
      "\n",
      "                     Taker Sell Quote Asset Volume  Range  target  \n",
      "2024-11-19 18:15:00                            NaN    NaN     NaN  \n",
      "2024-11-19 18:30:00                            NaN    NaN     NaN  \n",
      "2024-11-19 18:45:00                            NaN    NaN     NaN  \n",
      "2024-11-20 18:45:00                            NaN    NaN     NaN  \n",
      "2024-11-21 18:45:00                            NaN    NaN     NaN  \n",
      "2024-11-22 18:45:00                            NaN    NaN     NaN  \n"
     ]
    }
   ],
   "source": [
    "# Для абсолютной ошибки\n",
    "abs_errors = np.abs(forecast_df - df.iloc[-forecast_steps:])\n",
    "print(\"Абсолютные ошибки:\")\n",
    "print(abs_errors)\n",
    "\n",
    "# Вы можете вывести ошибку для каждой переменной или для каждого шага прогноза\n"
   ]
  },
  {
   "cell_type": "code",
   "execution_count": 13,
   "metadata": {},
   "outputs": [
    {
     "data": {
      "image/png": "[encoded data removed]",
      "text/plain": [
       "<Figure size 640x480 with 1 Axes>"
      ]
     },
     "metadata": {},
     "output_type": "display_data"
    }
   ],
   "source": [
    "abs_errors.plot()\n",
    "plt.title(\"Абсолютные ошибки прогноза\")\n",
    "plt.xlabel(\"Дата\")\n",
    "plt.ylabel(\"Абсолютная ошибка\")\n",
    "plt.legend(loc=\"upper left\")\n",
    "plt.show()\n"
   ]
  },
  {
   "cell_type": "code",
   "execution_count": null,
   "metadata": {},
   "outputs": [],
   "source": []
  }
 ],
 "metadata": {
  "kernelspec": {
   "display_name": "Python 3",
   "language": "python",
   "name": "python3"
  },
  "language_info": {
   "codemirror_mode": {
    "name": "ipython",
    "version": 3
   },
   "file_extension": ".py",
   "mimetype": "text/x-python",
   "name": "python",
   "nbconvert_exporter": "python",
   "pygments_lexer": "ipython3",
   "version": "3.9.9"
  }
 },
 "nbformat": 4,
 "nbformat_minor": 2
}
